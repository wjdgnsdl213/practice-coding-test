{
 "cells": [
  {
   "cell_type": "markdown",
   "id": "71cc5936",
   "metadata": {},
   "source": [
    "# Programmers\n",
    "### - 과일장수 (22.11.14)\n",
    "https://school.programmers.co.kr/learn/courses/30/lessons/135808"
   ]
  },
  {
   "cell_type": "code",
   "execution_count": 6,
   "id": "e9cc56d4",
   "metadata": {},
   "outputs": [],
   "source": [
    "def solution(k, m, score):\n",
    "    profit = 0\n",
    "    score.sort()\n",
    "    for i in range(len(score)//m):\n",
    "        min = 10\n",
    "        for j in range(m):\n",
    "            v = score.pop()\n",
    "            if v < min:\n",
    "                min = v\n",
    "        profit += min*m\n",
    "    return profit\n",
    "            "
   ]
  },
  {
   "cell_type": "code",
   "execution_count": 11,
   "id": "3626aac4",
   "metadata": {},
   "outputs": [],
   "source": [
    "# 다른 방법\n",
    "def solution(k, m, score):\n",
    "    profit = 0\n",
    "    score.sort()\n",
    "    minidx = len(score) % m\n",
    "    while minidx < len(score):\n",
    "        profit += score[minidx]\n",
    "        minidx += m\n",
    "    return profit*m"
   ]
  },
  {
   "cell_type": "code",
   "execution_count": 12,
   "id": "01e74f2e",
   "metadata": {},
   "outputs": [
    {
     "name": "stdout",
     "output_type": "stream",
     "text": [
      "8\n",
      "33\n"
     ]
    }
   ],
   "source": [
    "score1 = [1,2,3,1,2,3,1]\n",
    "score2 = [4,1,2,2,4,4,4,4,1,2,4,2]\n",
    "\n",
    "print(solution(3,4,score1))\n",
    "print(solution(4,3,score2))"
   ]
  }
 ],
 "metadata": {
  "kernelspec": {
   "display_name": "Python 3 (ipykernel)",
   "language": "python",
   "name": "python3"
  },
  "language_info": {
   "codemirror_mode": {
    "name": "ipython",
    "version": 3
   },
   "file_extension": ".py",
   "mimetype": "text/x-python",
   "name": "python",
   "nbconvert_exporter": "python",
   "pygments_lexer": "ipython3",
   "version": "3.8.10"
  }
 },
 "nbformat": 4,
 "nbformat_minor": 5
}

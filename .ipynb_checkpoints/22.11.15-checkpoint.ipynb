{
 "cells": [
  {
   "cell_type": "markdown",
   "id": "e7a3997e",
   "metadata": {},
   "source": [
    "# Programmers\n",
    "### 성격 유형 검사하기 (22.11.15)\n",
    "https://school.programmers.co.kr/learn/courses/30/lessons/118666"
   ]
  },
  {
   "cell_type": "code",
   "execution_count": 47,
   "id": "61c9efab",
   "metadata": {},
   "outputs": [],
   "source": [
    "# 내 풀이\n",
    "\n",
    "def solution(survey, choices):\n",
    "    char = [['R','T'],['C','F'],['J','M'],['A','N']]\n",
    "    sarr = [[0,0],[0,0],[0,0],[0,0]]\n",
    "    for sur in zip(survey, choices):\n",
    "        ct = sur[0]\n",
    "        score = sur[1] - 4\n",
    "        if score == 0:\n",
    "            continue\n",
    "        if score < 0:\n",
    "            for i in range(len(char)):\n",
    "                if ct[0] in char[i]:\n",
    "                    sarr[i][char[i].index(ct[0])] -= score\n",
    "                    break\n",
    "        elif score > 0:\n",
    "            for i in range(len(char)):\n",
    "                if ct[1] in char[i]:\n",
    "                    sarr[i][char[i].index(ct[1])] += score\n",
    "                    break\n",
    "    answer = ''\n",
    "    i = 0\n",
    "    for ch in sarr:\n",
    "        if ch[0] < ch[1]:\n",
    "            answer += char[i][1]\n",
    "            i += 1\n",
    "        else:\n",
    "            answer += char[i][0]\n",
    "            i += 1\n",
    "    return answer"
   ]
  },
  {
   "cell_type": "code",
   "execution_count": 49,
   "id": "282151ae",
   "metadata": {},
   "outputs": [],
   "source": [
    "# 다른 사람 풀이\n",
    "\n",
    "def solution(survey, choices):\n",
    "\n",
    "    my_dict = {\"RT\":0,\"CF\":0,\"JM\":0,\"AN\":0}\n",
    "    for A,B in zip(survey,choices):\n",
    "        if A not in my_dict.keys():\n",
    "            A = A[::-1]\n",
    "            my_dict[A] -= B-4\n",
    "        else:\n",
    "            my_dict[A] += B-4\n",
    "\n",
    "    result = \"\"\n",
    "    for name in my_dict.keys():\n",
    "        if my_dict[name] > 0:\n",
    "            result += name[1]\n",
    "        elif my_dict[name] < 0:\n",
    "            result += name[0]\n",
    "        else:\n",
    "            result += sorted(name)[0]\n",
    "\n",
    "    return result\n"
   ]
  }
 ],
 "metadata": {
  "kernelspec": {
   "display_name": "Python 3 (ipykernel)",
   "language": "python",
   "name": "python3"
  },
  "language_info": {
   "codemirror_mode": {
    "name": "ipython",
    "version": 3
   },
   "file_extension": ".py",
   "mimetype": "text/x-python",
   "name": "python",
   "nbconvert_exporter": "python",
   "pygments_lexer": "ipython3",
   "version": "3.8.10"
  }
 },
 "nbformat": 4,
 "nbformat_minor": 5
}
